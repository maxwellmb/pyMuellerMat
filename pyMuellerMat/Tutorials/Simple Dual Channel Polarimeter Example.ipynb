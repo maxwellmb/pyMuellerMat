{
 "cells": [
  {
   "cell_type": "code",
   "execution_count": 1,
   "metadata": {},
   "outputs": [],
   "source": [
    "from pyMuellerMat import common_mms as cmm\n",
    "from pyMuellerMat import MuellerMat\n",
    "import numpy as np\n",
    "import matplotlib.pyplot as plt\n",
    "\n",
    "#Some nicer printing options to avoid machine errors\n",
    "np.set_printoptions(precision=5)\n",
    "np.set_printoptions(suppress=True)"
   ]
  },
  {
   "cell_type": "markdown",
   "metadata": {},
   "source": [
    "#### First we'll generate a wollaston prism MuellerMatrix object and a half-wave plate MuellerMatrix object"
   ]
  },
  {
   "cell_type": "code",
   "execution_count": 2,
   "metadata": {},
   "outputs": [],
   "source": [
    "wollaston_mm = cmm.WollastonPrism()\n",
    "hwp_mm = cmm.HWP()"
   ]
  },
  {
   "cell_type": "markdown",
   "metadata": {},
   "source": [
    "#### Now we'll combine them into a SystemMuellerMatrix"
   ]
  },
  {
   "cell_type": "code",
   "execution_count": 3,
   "metadata": {},
   "outputs": [],
   "source": [
    "sys_mm = MuellerMat.SystemMuellerMatrix([wollaston_mm,hwp_mm])"
   ]
  },
  {
   "cell_type": "markdown",
   "metadata": {},
   "source": [
    "#### Let's take a look at the possible keywords to the System"
   ]
  },
  {
   "cell_type": "code",
   "execution_count": 6,
   "metadata": {},
   "outputs": [
    {
     "data": {
      "text/plain": [
       "{'HalfwaveRetarder': {'theta': 0.0},\n",
       " 'WollastonPrism': {'beam': 'o', 'eta': 1.0, 'theta': 0.0}}"
      ]
     },
     "execution_count": 6,
     "metadata": {},
     "output_type": "execute_result"
    }
   ],
   "source": [
    "sys_mm.master_property_dict"
   ]
  },
  {
   "cell_type": "markdown",
   "metadata": {},
   "source": [
    "The HWP only has one parameter - the rotation angle theta.  \n",
    "The WollastonPrism has two paramters - The 'beam' can either be 'o' for ordinary or 'e' for extraordinary"
   ]
  },
  {
   "cell_type": "markdown",
   "metadata": {},
   "source": [
    "#### We'll evaluate the system mueller matrix with the default parameters above"
   ]
  },
  {
   "cell_type": "code",
   "execution_count": 7,
   "metadata": {},
   "outputs": [
    {
     "name": "stdout",
     "output_type": "stream",
     "text": [
      "[[0.5 0.5 0.  0. ]\n",
      " [0.5 0.5 0.  0. ]\n",
      " [0.  0.  0.  0. ]\n",
      " [0.  0.  0.  0. ]]\n"
     ]
    }
   ],
   "source": [
    "m1 = sys_mm.evaluate()\n",
    "print(m1)"
   ]
  },
  {
   "cell_type": "markdown",
   "metadata": {},
   "source": [
    "#### What does it look like if we want to look at the extraordinary beam"
   ]
  },
  {
   "cell_type": "code",
   "execution_count": 8,
   "metadata": {},
   "outputs": [],
   "source": [
    "sys_mm.master_property_dict['WollastonPrism']['beam']='e'"
   ]
  },
  {
   "cell_type": "code",
   "execution_count": 9,
   "metadata": {},
   "outputs": [
    {
     "name": "stdout",
     "output_type": "stream",
     "text": [
      "[[ 0.5 -0.5  0.   0. ]\n",
      " [-0.5  0.5  0.   0. ]\n",
      " [ 0.   0.   0.   0. ]\n",
      " [ 0.   0.   0.   0. ]]\n"
     ]
    }
   ],
   "source": [
    "m2 = sys_mm.evaluate()\n",
    "print(m2)"
   ]
  },
  {
   "cell_type": "markdown",
   "metadata": {},
   "source": [
    "#### Cool! Normally we'll take the difference of the ordinary and extraordinary beam. "
   ]
  },
  {
   "cell_type": "code",
   "execution_count": 10,
   "metadata": {},
   "outputs": [
    {
     "name": "stdout",
     "output_type": "stream",
     "text": [
      "Different Mueller Matrix\n",
      "[[0. 1. 0. 0.]\n",
      " [1. 0. 0. 0.]\n",
      " [0. 0. 0. 0.]\n",
      " [0. 0. 0. 0.]]\n",
      "\n",
      " Sum Mueller Matrix\n",
      "[[1. 0. 0. 0.]\n",
      " [0. 1. 0. 0.]\n",
      " [0. 0. 0. 0.]\n",
      " [0. 0. 0. 0.]]\n"
     ]
    }
   ],
   "source": [
    "m_sys1_diff = m1-m2\n",
    "m_sys1_sum = m1+m2\n",
    "print(\"Different Mueller Matrix\")\n",
    "print(m_sys1_diff)\n",
    "print(\"\\n Sum Mueller Matrix\")\n",
    "print(m_sys1_sum)"
   ]
  },
  {
   "cell_type": "markdown",
   "metadata": {},
   "source": [
    "#### Super! That's what it should look like. Now we can rotate the HWP by 45 degrees to swap the beam:"
   ]
  },
  {
   "cell_type": "code",
   "execution_count": 12,
   "metadata": {},
   "outputs": [],
   "source": [
    "sys_mm.master_property_dict['HalfwaveRetarder']['theta']=45\n",
    "sys_mm.master_property_dict['WollastonPrism']['beam']='o'\n",
    "m1 = sys_mm.evaluate()\n",
    "sys_mm.master_property_dict['WollastonPrism']['beam']='e'\n",
    "m2 = sys_mm.evaluate()"
   ]
  },
  {
   "cell_type": "code",
   "execution_count": 13,
   "metadata": {},
   "outputs": [
    {
     "name": "stdout",
     "output_type": "stream",
     "text": [
      "Different Mueller Matrix\n",
      "[[ 0. -1.  0. -0.]\n",
      " [ 1.  0.  0.  0.]\n",
      " [ 0.  0.  0.  0.]\n",
      " [ 0.  0.  0.  0.]]\n",
      "\n",
      " Sum Mueller Matrix\n",
      "[[ 1.  0.  0.  0.]\n",
      " [ 0. -1.  0. -0.]\n",
      " [ 0.  0.  0.  0.]\n",
      " [ 0.  0.  0.  0.]]\n"
     ]
    }
   ],
   "source": [
    "m_sys2_diff = m1-m2\n",
    "m_sys2_sum = m1+m2\n",
    "print(\"Different Mueller Matrix\")\n",
    "print(m_sys2_diff)\n",
    "print(\"\\n Sum Mueller Matrix\")\n",
    "print(m_sys2_sum)"
   ]
  },
  {
   "cell_type": "markdown",
   "metadata": {},
   "source": [
    "Great! The sign has flipped on the Q component, as we wanted. "
   ]
  },
  {
   "cell_type": "markdown",
   "metadata": {},
   "source": [
    "#### Let's generate some fake sum and difference data with a random input Stokes Vector\n",
    "Since we've only generated WP angles that are sensitive to Q, we'll leave U blank"
   ]
  },
  {
   "cell_type": "code",
   "execution_count": 14,
   "metadata": {},
   "outputs": [
    {
     "name": "stdout",
     "output_type": "stream",
     "text": [
      "[1.0, -0.5, 1.0, 0.5]\n"
     ]
    }
   ],
   "source": [
    "## Choose an input and make some fake measurements\n",
    "S=[1,-0.5,0,0]\n",
    "\n",
    "ipsum = np.matmul(m_sys1_sum,S)[0]\n",
    "ipdiff = np.matmul(m_sys1_diff,S)[0]\n",
    "insum = np.matmul(m_sys2_sum,S)[0]\n",
    "indiff = np.matmul(m_sys2_diff,S)[0]\n",
    "\n",
    "measurements = [ipsum, ipdiff,insum,indiff]\n",
    "print(measurements)"
   ]
  },
  {
   "cell_type": "markdown",
   "metadata": {},
   "source": [
    "The data is displayed as [sum0,diff0,sum45,diff45]"
   ]
  },
  {
   "cell_type": "markdown",
   "metadata": {},
   "source": [
    "#### Generate a measurement matrix and take the inverse! "
   ]
  },
  {
   "cell_type": "code",
   "execution_count": 15,
   "metadata": {},
   "outputs": [
    {
     "name": "stdout",
     "output_type": "stream",
     "text": [
      "[[ 1.  0.  0.  0.]\n",
      " [ 0.  1.  0.  0.]\n",
      " [ 1.  0.  0.  0.]\n",
      " [ 0. -1.  0. -0.]]\n"
     ]
    }
   ],
   "source": [
    "measurement_matrix = np.vstack([m_sys1_sum[0],m_sys1_diff[0],\n",
    "                               m_sys2_sum[0],m_sys2_diff[0]])\n",
    "print(measurement_matrix)"
   ]
  },
  {
   "cell_type": "code",
   "execution_count": 16,
   "metadata": {},
   "outputs": [
    {
     "name": "stdout",
     "output_type": "stream",
     "text": [
      "[[ 0.5  0.   0.5  0. ]\n",
      " [ 0.   0.5  0.  -0.5]\n",
      " [ 0.   0.   0.   0. ]\n",
      " [ 0.   0.   0.   0. ]]\n"
     ]
    }
   ],
   "source": [
    "inv_measurement_matrix = np.linalg.pinv(measurement_matrix)\n",
    "print(inv_measurement_matrix)"
   ]
  },
  {
   "cell_type": "markdown",
   "metadata": {},
   "source": [
    "#### Finally, recover our input polarization."
   ]
  },
  {
   "cell_type": "code",
   "execution_count": 17,
   "metadata": {},
   "outputs": [
    {
     "name": "stdout",
     "output_type": "stream",
     "text": [
      "[ 1.  -0.5  0.   0. ]\n"
     ]
    }
   ],
   "source": [
    "S_in = np.matmul(inv_measurement_matrix,measurements)\n",
    "print(S_in)"
   ]
  },
  {
   "cell_type": "code",
   "execution_count": null,
   "metadata": {},
   "outputs": [],
   "source": []
  },
  {
   "cell_type": "code",
   "execution_count": null,
   "metadata": {},
   "outputs": [],
   "source": [
    "\n"
   ]
  },
  {
   "cell_type": "code",
   "execution_count": null,
   "metadata": {},
   "outputs": [],
   "source": []
  },
  {
   "cell_type": "code",
   "execution_count": null,
   "metadata": {},
   "outputs": [],
   "source": []
  },
  {
   "cell_type": "code",
   "execution_count": null,
   "metadata": {},
   "outputs": [],
   "source": []
  },
  {
   "cell_type": "code",
   "execution_count": null,
   "metadata": {},
   "outputs": [],
   "source": []
  }
 ],
 "metadata": {
  "kernelspec": {
   "display_name": "Python 3",
   "language": "python",
   "name": "python3"
  },
  "language_info": {
   "codemirror_mode": {
    "name": "ipython",
    "version": 3
   },
   "file_extension": ".py",
   "mimetype": "text/x-python",
   "name": "python",
   "nbconvert_exporter": "python",
   "pygments_lexer": "ipython3",
   "version": "3.7.3"
  }
 },
 "nbformat": 4,
 "nbformat_minor": 2
}
